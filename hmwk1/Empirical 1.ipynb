{
 "cells": [
  {
   "cell_type": "code",
   "execution_count": 2,
   "metadata": {
    "collapsed": true
   },
   "outputs": [],
   "source": [
    "import numpy as np\n",
    "import pandas as pd"
   ]
  },
  {
   "cell_type": "code",
   "execution_count": 3,
   "metadata": {
    "collapsed": true
   },
   "outputs": [],
   "source": [
    "#path = 'C:/Users/mphan/Documents/Behavioral-Finance/hmwk1/'\n",
    "path = ''\n",
    "\n",
    "# Jan 1963 - Dec 2017\n",
    "aqr_ff_data = pd.read_csv(path + 'aqr_ff_data.csv')\n",
    "aqr_ff_data['date'] = pd.to_datetime(aqr_ff_data['date'], format=\"%Y%m\")\n",
    "\n",
    "# 1955 - 2014\n",
    "kent_data = pd.read_csv(path + 'bf_hw1.csv')\n",
    "kent_data['date'] = pd.to_datetime(kent_data['date'], format=\"%m-%d-%Y\")\n",
    "# Converting to percent since the aqr data is in percent\n",
    "kent_data[['isu', 'acr', 'ivol1m']] = kent_data[['isu', 'acr', 'ivol1m']]*100"
   ]
  },
  {
   "cell_type": "code",
   "execution_count": 4,
   "metadata": {
    "collapsed": true
   },
   "outputs": [],
   "source": [
    "combined = pd.merge(aqr_ff_data, kent_data, how='outer')\n",
    "combined.columns = map(str.upper, combined.columns)\n",
    "combined.sort_values(by=['DATE'], inplace=True)"
   ]
  },
  {
   "cell_type": "markdown",
   "metadata": {},
   "source": [
    "ISU, ACR, IVOL1M factors (starts in 1955)"
   ]
  },
  {
   "cell_type": "code",
   "execution_count": 5,
   "metadata": {},
   "outputs": [
    {
     "data": {
      "text/html": [
       "<div>\n",
       "<style scoped>\n",
       "    .dataframe tbody tr th:only-of-type {\n",
       "        vertical-align: middle;\n",
       "    }\n",
       "\n",
       "    .dataframe tbody tr th {\n",
       "        vertical-align: top;\n",
       "    }\n",
       "\n",
       "    .dataframe thead th {\n",
       "        text-align: right;\n",
       "    }\n",
       "</style>\n",
       "<table border=\"1\" class=\"dataframe\">\n",
       "  <thead>\n",
       "    <tr style=\"text-align: right;\">\n",
       "      <th></th>\n",
       "      <th>DATE</th>\n",
       "      <th>MKT-RF</th>\n",
       "      <th>SMB</th>\n",
       "      <th>HML</th>\n",
       "      <th>RMW</th>\n",
       "      <th>CMA</th>\n",
       "      <th>MOM</th>\n",
       "      <th>STR</th>\n",
       "      <th>BAB</th>\n",
       "      <th>QMJ</th>\n",
       "      <th>RF</th>\n",
       "      <th>ISU</th>\n",
       "      <th>ACR</th>\n",
       "      <th>IVOL1M</th>\n",
       "    </tr>\n",
       "  </thead>\n",
       "  <tbody>\n",
       "    <tr>\n",
       "      <th>654</th>\n",
       "      <td>1955-07-01</td>\n",
       "      <td>NaN</td>\n",
       "      <td>NaN</td>\n",
       "      <td>NaN</td>\n",
       "      <td>NaN</td>\n",
       "      <td>NaN</td>\n",
       "      <td>NaN</td>\n",
       "      <td>NaN</td>\n",
       "      <td>NaN</td>\n",
       "      <td>NaN</td>\n",
       "      <td>NaN</td>\n",
       "      <td>0.744056</td>\n",
       "      <td>3.622477</td>\n",
       "      <td>6.539146</td>\n",
       "    </tr>\n",
       "    <tr>\n",
       "      <th>655</th>\n",
       "      <td>1955-08-01</td>\n",
       "      <td>NaN</td>\n",
       "      <td>NaN</td>\n",
       "      <td>NaN</td>\n",
       "      <td>NaN</td>\n",
       "      <td>NaN</td>\n",
       "      <td>NaN</td>\n",
       "      <td>NaN</td>\n",
       "      <td>NaN</td>\n",
       "      <td>NaN</td>\n",
       "      <td>NaN</td>\n",
       "      <td>-2.148920</td>\n",
       "      <td>-1.764342</td>\n",
       "      <td>-1.066654</td>\n",
       "    </tr>\n",
       "    <tr>\n",
       "      <th>656</th>\n",
       "      <td>1955-09-01</td>\n",
       "      <td>NaN</td>\n",
       "      <td>NaN</td>\n",
       "      <td>NaN</td>\n",
       "      <td>NaN</td>\n",
       "      <td>NaN</td>\n",
       "      <td>NaN</td>\n",
       "      <td>NaN</td>\n",
       "      <td>NaN</td>\n",
       "      <td>NaN</td>\n",
       "      <td>NaN</td>\n",
       "      <td>0.086056</td>\n",
       "      <td>0.362991</td>\n",
       "      <td>4.214729</td>\n",
       "    </tr>\n",
       "    <tr>\n",
       "      <th>657</th>\n",
       "      <td>1955-10-01</td>\n",
       "      <td>NaN</td>\n",
       "      <td>NaN</td>\n",
       "      <td>NaN</td>\n",
       "      <td>NaN</td>\n",
       "      <td>NaN</td>\n",
       "      <td>NaN</td>\n",
       "      <td>NaN</td>\n",
       "      <td>NaN</td>\n",
       "      <td>NaN</td>\n",
       "      <td>NaN</td>\n",
       "      <td>-0.588581</td>\n",
       "      <td>-0.476220</td>\n",
       "      <td>1.555679</td>\n",
       "    </tr>\n",
       "    <tr>\n",
       "      <th>658</th>\n",
       "      <td>1955-11-01</td>\n",
       "      <td>NaN</td>\n",
       "      <td>NaN</td>\n",
       "      <td>NaN</td>\n",
       "      <td>NaN</td>\n",
       "      <td>NaN</td>\n",
       "      <td>NaN</td>\n",
       "      <td>NaN</td>\n",
       "      <td>NaN</td>\n",
       "      <td>NaN</td>\n",
       "      <td>NaN</td>\n",
       "      <td>-2.367149</td>\n",
       "      <td>-1.754872</td>\n",
       "      <td>1.633820</td>\n",
       "    </tr>\n",
       "  </tbody>\n",
       "</table>\n",
       "</div>"
      ],
      "text/plain": [
       "          DATE  MKT-RF  SMB  HML  RMW  CMA  MOM  STR  BAB  QMJ  RF       ISU  \\\n",
       "654 1955-07-01     NaN  NaN  NaN  NaN  NaN  NaN  NaN  NaN  NaN NaN  0.744056   \n",
       "655 1955-08-01     NaN  NaN  NaN  NaN  NaN  NaN  NaN  NaN  NaN NaN -2.148920   \n",
       "656 1955-09-01     NaN  NaN  NaN  NaN  NaN  NaN  NaN  NaN  NaN NaN  0.086056   \n",
       "657 1955-10-01     NaN  NaN  NaN  NaN  NaN  NaN  NaN  NaN  NaN NaN -0.588581   \n",
       "658 1955-11-01     NaN  NaN  NaN  NaN  NaN  NaN  NaN  NaN  NaN NaN -2.367149   \n",
       "\n",
       "          ACR    IVOL1M  \n",
       "654  3.622477  6.539146  \n",
       "655 -1.764342 -1.066654  \n",
       "656  0.362991  4.214729  \n",
       "657 -0.476220  1.555679  \n",
       "658 -1.754872  1.633820  "
      ]
     },
     "execution_count": 5,
     "metadata": {},
     "output_type": "execute_result"
    }
   ],
   "source": [
    "combined.head()"
   ]
  },
  {
   "cell_type": "markdown",
   "metadata": {},
   "source": [
    "Mkt-Rf, SMB, HML, etc.. factors (starts in 1963)"
   ]
  },
  {
   "cell_type": "code",
   "execution_count": 6,
   "metadata": {},
   "outputs": [
    {
     "data": {
      "text/html": [
       "<div>\n",
       "<style scoped>\n",
       "    .dataframe tbody tr th:only-of-type {\n",
       "        vertical-align: middle;\n",
       "    }\n",
       "\n",
       "    .dataframe tbody tr th {\n",
       "        vertical-align: top;\n",
       "    }\n",
       "\n",
       "    .dataframe thead th {\n",
       "        text-align: right;\n",
       "    }\n",
       "</style>\n",
       "<table border=\"1\" class=\"dataframe\">\n",
       "  <thead>\n",
       "    <tr style=\"text-align: right;\">\n",
       "      <th></th>\n",
       "      <th>DATE</th>\n",
       "      <th>MKT-RF</th>\n",
       "      <th>SMB</th>\n",
       "      <th>HML</th>\n",
       "      <th>RMW</th>\n",
       "      <th>CMA</th>\n",
       "      <th>MOM</th>\n",
       "      <th>STR</th>\n",
       "      <th>BAB</th>\n",
       "      <th>QMJ</th>\n",
       "      <th>RF</th>\n",
       "      <th>ISU</th>\n",
       "      <th>ACR</th>\n",
       "      <th>IVOL1M</th>\n",
       "    </tr>\n",
       "  </thead>\n",
       "  <tbody>\n",
       "    <tr>\n",
       "      <th>0</th>\n",
       "      <td>1963-07-01</td>\n",
       "      <td>-0.39</td>\n",
       "      <td>-0.46</td>\n",
       "      <td>-0.81</td>\n",
       "      <td>0.72</td>\n",
       "      <td>-1.16</td>\n",
       "      <td>0.99</td>\n",
       "      <td>-0.04</td>\n",
       "      <td>0.81</td>\n",
       "      <td>0.47</td>\n",
       "      <td>0.27</td>\n",
       "      <td>-0.205056</td>\n",
       "      <td>-0.473696</td>\n",
       "      <td>1.245273</td>\n",
       "    </tr>\n",
       "    <tr>\n",
       "      <th>1</th>\n",
       "      <td>1963-08-01</td>\n",
       "      <td>5.07</td>\n",
       "      <td>-0.81</td>\n",
       "      <td>1.65</td>\n",
       "      <td>0.42</td>\n",
       "      <td>-0.40</td>\n",
       "      <td>1.08</td>\n",
       "      <td>1.36</td>\n",
       "      <td>-1.22</td>\n",
       "      <td>-0.63</td>\n",
       "      <td>0.25</td>\n",
       "      <td>0.208680</td>\n",
       "      <td>1.021123</td>\n",
       "      <td>0.404250</td>\n",
       "    </tr>\n",
       "    <tr>\n",
       "      <th>2</th>\n",
       "      <td>1963-09-01</td>\n",
       "      <td>-1.57</td>\n",
       "      <td>-0.48</td>\n",
       "      <td>0.19</td>\n",
       "      <td>-0.80</td>\n",
       "      <td>0.23</td>\n",
       "      <td>0.13</td>\n",
       "      <td>1.20</td>\n",
       "      <td>1.07</td>\n",
       "      <td>0.61</td>\n",
       "      <td>0.27</td>\n",
       "      <td>1.130358</td>\n",
       "      <td>0.061623</td>\n",
       "      <td>0.774335</td>\n",
       "    </tr>\n",
       "    <tr>\n",
       "      <th>3</th>\n",
       "      <td>1963-10-01</td>\n",
       "      <td>2.53</td>\n",
       "      <td>-1.29</td>\n",
       "      <td>-0.09</td>\n",
       "      <td>2.75</td>\n",
       "      <td>-2.26</td>\n",
       "      <td>3.14</td>\n",
       "      <td>-0.66</td>\n",
       "      <td>-1.88</td>\n",
       "      <td>2.08</td>\n",
       "      <td>0.29</td>\n",
       "      <td>1.426423</td>\n",
       "      <td>3.028919</td>\n",
       "      <td>0.218016</td>\n",
       "    </tr>\n",
       "    <tr>\n",
       "      <th>4</th>\n",
       "      <td>1963-11-01</td>\n",
       "      <td>-0.85</td>\n",
       "      <td>-0.85</td>\n",
       "      <td>1.71</td>\n",
       "      <td>-0.34</td>\n",
       "      <td>2.22</td>\n",
       "      <td>-0.75</td>\n",
       "      <td>1.15</td>\n",
       "      <td>-0.52</td>\n",
       "      <td>-0.88</td>\n",
       "      <td>0.27</td>\n",
       "      <td>0.910432</td>\n",
       "      <td>-1.318862</td>\n",
       "      <td>2.087017</td>\n",
       "    </tr>\n",
       "  </tbody>\n",
       "</table>\n",
       "</div>"
      ],
      "text/plain": [
       "        DATE  MKT-RF   SMB   HML   RMW   CMA   MOM   STR   BAB   QMJ    RF  \\\n",
       "0 1963-07-01   -0.39 -0.46 -0.81  0.72 -1.16  0.99 -0.04  0.81  0.47  0.27   \n",
       "1 1963-08-01    5.07 -0.81  1.65  0.42 -0.40  1.08  1.36 -1.22 -0.63  0.25   \n",
       "2 1963-09-01   -1.57 -0.48  0.19 -0.80  0.23  0.13  1.20  1.07  0.61  0.27   \n",
       "3 1963-10-01    2.53 -1.29 -0.09  2.75 -2.26  3.14 -0.66 -1.88  2.08  0.29   \n",
       "4 1963-11-01   -0.85 -0.85  1.71 -0.34  2.22 -0.75  1.15 -0.52 -0.88  0.27   \n",
       "\n",
       "        ISU       ACR    IVOL1M  \n",
       "0 -0.205056 -0.473696  1.245273  \n",
       "1  0.208680  1.021123  0.404250  \n",
       "2  1.130358  0.061623  0.774335  \n",
       "3  1.426423  3.028919  0.218016  \n",
       "4  0.910432 -1.318862  2.087017  "
      ]
     },
     "execution_count": 6,
     "metadata": {},
     "output_type": "execute_result"
    }
   ],
   "source": [
    "combined.loc[(~combined['SMB'].isin([np.nan])),].head()"
   ]
  },
  {
   "cell_type": "markdown",
   "metadata": {},
   "source": [
    "# Question 1"
   ]
  },
  {
   "cell_type": "markdown",
   "metadata": {},
   "source": [
    "Number of observations"
   ]
  },
  {
   "cell_type": "code",
   "execution_count": 7,
   "metadata": {},
   "outputs": [
    {
     "data": {
      "text/plain": [
       "MKT-RF    654\n",
       "SMB       654\n",
       "HML       654\n",
       "RMW       654\n",
       "CMA       654\n",
       "MOM       654\n",
       "STR       654\n",
       "BAB       654\n",
       "QMJ       654\n",
       "RF        654\n",
       "ISU       707\n",
       "ACR       707\n",
       "IVOL1M    707\n",
       "dtype: int64"
      ]
     },
     "execution_count": 7,
     "metadata": {},
     "output_type": "execute_result"
    }
   ],
   "source": [
    "combined.iloc[:, 1:combined.columns.size].count()"
   ]
  },
  {
   "cell_type": "markdown",
   "metadata": {},
   "source": [
    "Annualized factor returns, volatilities, and sharpe ratios"
   ]
  },
  {
   "cell_type": "code",
   "execution_count": 8,
   "metadata": {},
   "outputs": [
    {
     "data": {
      "text/html": [
       "<div>\n",
       "<style scoped>\n",
       "    .dataframe tbody tr th:only-of-type {\n",
       "        vertical-align: middle;\n",
       "    }\n",
       "\n",
       "    .dataframe tbody tr th {\n",
       "        vertical-align: top;\n",
       "    }\n",
       "\n",
       "    .dataframe thead th {\n",
       "        text-align: right;\n",
       "    }\n",
       "</style>\n",
       "<table border=\"1\" class=\"dataframe\">\n",
       "  <thead>\n",
       "    <tr style=\"text-align: right;\">\n",
       "      <th></th>\n",
       "      <th>MKT-RF</th>\n",
       "      <th>SMB</th>\n",
       "      <th>HML</th>\n",
       "      <th>RMW</th>\n",
       "      <th>CMA</th>\n",
       "      <th>MOM</th>\n",
       "      <th>STR</th>\n",
       "      <th>BAB</th>\n",
       "      <th>QMJ</th>\n",
       "      <th>RF</th>\n",
       "      <th>ISU</th>\n",
       "      <th>ACR</th>\n",
       "      <th>IVOL1M</th>\n",
       "    </tr>\n",
       "  </thead>\n",
       "  <tbody>\n",
       "    <tr>\n",
       "      <th>mean</th>\n",
       "      <td>6.371743</td>\n",
       "      <td>3.005688</td>\n",
       "      <td>4.144587</td>\n",
       "      <td>3.000734</td>\n",
       "      <td>3.441468</td>\n",
       "      <td>7.911009</td>\n",
       "      <td>5.791009</td>\n",
       "      <td>9.539266</td>\n",
       "      <td>4.369541</td>\n",
       "      <td>4.63633</td>\n",
       "      <td>3.89799</td>\n",
       "      <td>1.947849</td>\n",
       "      <td>8.89787</td>\n",
       "    </tr>\n",
       "  </tbody>\n",
       "</table>\n",
       "</div>"
      ],
      "text/plain": [
       "        MKT-RF       SMB       HML       RMW       CMA       MOM       STR  \\\n",
       "mean  6.371743  3.005688  4.144587  3.000734  3.441468  7.911009  5.791009   \n",
       "\n",
       "           BAB       QMJ       RF      ISU       ACR   IVOL1M  \n",
       "mean  9.539266  4.369541  4.63633  3.89799  1.947849  8.89787  "
      ]
     },
     "execution_count": 8,
     "metadata": {},
     "output_type": "execute_result"
    }
   ],
   "source": [
    "factor_returns = combined.iloc[:, 1:combined.columns.size].agg(['mean'])*12\n",
    "factor_returns"
   ]
  },
  {
   "cell_type": "code",
   "execution_count": 9,
   "metadata": {},
   "outputs": [
    {
     "data": {
      "text/html": [
       "<div>\n",
       "<style scoped>\n",
       "    .dataframe tbody tr th:only-of-type {\n",
       "        vertical-align: middle;\n",
       "    }\n",
       "\n",
       "    .dataframe tbody tr th {\n",
       "        vertical-align: top;\n",
       "    }\n",
       "\n",
       "    .dataframe thead th {\n",
       "        text-align: right;\n",
       "    }\n",
       "</style>\n",
       "<table border=\"1\" class=\"dataframe\">\n",
       "  <thead>\n",
       "    <tr style=\"text-align: right;\">\n",
       "      <th></th>\n",
       "      <th>MKT-RF</th>\n",
       "      <th>SMB</th>\n",
       "      <th>HML</th>\n",
       "      <th>RMW</th>\n",
       "      <th>CMA</th>\n",
       "      <th>MOM</th>\n",
       "      <th>STR</th>\n",
       "      <th>BAB</th>\n",
       "      <th>QMJ</th>\n",
       "      <th>RF</th>\n",
       "      <th>ISU</th>\n",
       "      <th>ACR</th>\n",
       "      <th>IVOL1M</th>\n",
       "    </tr>\n",
       "  </thead>\n",
       "  <tbody>\n",
       "    <tr>\n",
       "      <th>std</th>\n",
       "      <td>15.200588</td>\n",
       "      <td>10.477238</td>\n",
       "      <td>9.729386</td>\n",
       "      <td>7.664816</td>\n",
       "      <td>6.94564</td>\n",
       "      <td>14.529008</td>\n",
       "      <td>10.730704</td>\n",
       "      <td>10.962232</td>\n",
       "      <td>8.228669</td>\n",
       "      <td>0.919295</td>\n",
       "      <td>8.165429</td>\n",
       "      <td>5.760879</td>\n",
       "      <td>22.164692</td>\n",
       "    </tr>\n",
       "  </tbody>\n",
       "</table>\n",
       "</div>"
      ],
      "text/plain": [
       "        MKT-RF        SMB       HML       RMW      CMA        MOM        STR  \\\n",
       "std  15.200588  10.477238  9.729386  7.664816  6.94564  14.529008  10.730704   \n",
       "\n",
       "           BAB       QMJ        RF       ISU       ACR     IVOL1M  \n",
       "std  10.962232  8.228669  0.919295  8.165429  5.760879  22.164692  "
      ]
     },
     "execution_count": 9,
     "metadata": {},
     "output_type": "execute_result"
    }
   ],
   "source": [
    "factor_vol = combined.iloc[:, 1:combined.columns.size].agg(['std'])*np.sqrt(12)\n",
    "factor_vol"
   ]
  },
  {
   "cell_type": "code",
   "execution_count": 10,
   "metadata": {},
   "outputs": [
    {
     "data": {
      "text/plain": [
       "MKT-RF    0.419177\n",
       "SMB       0.286878\n",
       "HML       0.425987\n",
       "RMW       0.391495\n",
       "CMA       0.495486\n",
       "MOM       0.544498\n",
       "STR       0.539667\n",
       "BAB       0.870194\n",
       "QMJ       0.531014\n",
       "RF        5.043352\n",
       "ISU       0.477377\n",
       "ACR       0.338117\n",
       "IVOL1M    0.401443\n",
       "dtype: float64"
      ]
     },
     "execution_count": 10,
     "metadata": {},
     "output_type": "execute_result"
    }
   ],
   "source": [
    "sharpe = factor_returns.iloc[0,]/factor_vol.iloc[0,]\n",
    "sharpe"
   ]
  },
  {
   "cell_type": "markdown",
   "metadata": {},
   "source": [
    "# Question 2"
   ]
  },
  {
   "cell_type": "code",
   "execution_count": 11,
   "metadata": {},
   "outputs": [
    {
     "data": {
      "text/html": [
       "<div>\n",
       "<style scoped>\n",
       "    .dataframe tbody tr th:only-of-type {\n",
       "        vertical-align: middle;\n",
       "    }\n",
       "\n",
       "    .dataframe tbody tr th {\n",
       "        vertical-align: top;\n",
       "    }\n",
       "\n",
       "    .dataframe thead th {\n",
       "        text-align: right;\n",
       "    }\n",
       "</style>\n",
       "<table border=\"1\" class=\"dataframe\">\n",
       "  <thead>\n",
       "    <tr style=\"text-align: right;\">\n",
       "      <th></th>\n",
       "      <th>MKT-RF</th>\n",
       "      <th>SMB</th>\n",
       "      <th>HML</th>\n",
       "      <th>RMW</th>\n",
       "      <th>CMA</th>\n",
       "      <th>MOM</th>\n",
       "      <th>STR</th>\n",
       "      <th>BAB</th>\n",
       "      <th>QMJ</th>\n",
       "      <th>RF</th>\n",
       "      <th>ISU</th>\n",
       "      <th>ACR</th>\n",
       "      <th>IVOL1M</th>\n",
       "    </tr>\n",
       "  </thead>\n",
       "  <tbody>\n",
       "    <tr>\n",
       "      <th>MKT-RF</th>\n",
       "      <td>1.000000</td>\n",
       "      <td>0.273734</td>\n",
       "      <td>-0.258937</td>\n",
       "      <td>-0.232352</td>\n",
       "      <td>-0.383175</td>\n",
       "      <td>-0.132408</td>\n",
       "      <td>0.282365</td>\n",
       "      <td>-0.085063</td>\n",
       "      <td>-0.524648</td>\n",
       "      <td>-0.084408</td>\n",
       "      <td>0.472874</td>\n",
       "      <td>-0.000292</td>\n",
       "      <td>-0.501423</td>\n",
       "    </tr>\n",
       "    <tr>\n",
       "      <th>SMB</th>\n",
       "      <td>0.273734</td>\n",
       "      <td>1.000000</td>\n",
       "      <td>-0.068692</td>\n",
       "      <td>-0.349837</td>\n",
       "      <td>-0.100964</td>\n",
       "      <td>-0.028809</td>\n",
       "      <td>0.158468</td>\n",
       "      <td>-0.020474</td>\n",
       "      <td>-0.514492</td>\n",
       "      <td>-0.043436</td>\n",
       "      <td>0.156561</td>\n",
       "      <td>0.158716</td>\n",
       "      <td>-0.667716</td>\n",
       "    </tr>\n",
       "    <tr>\n",
       "      <th>HML</th>\n",
       "      <td>-0.258937</td>\n",
       "      <td>-0.068692</td>\n",
       "      <td>1.000000</td>\n",
       "      <td>0.065707</td>\n",
       "      <td>0.696096</td>\n",
       "      <td>-0.183351</td>\n",
       "      <td>0.002098</td>\n",
       "      <td>0.319836</td>\n",
       "      <td>-0.021364</td>\n",
       "      <td>0.073936</td>\n",
       "      <td>-0.550018</td>\n",
       "      <td>-0.153199</td>\n",
       "      <td>0.317864</td>\n",
       "    </tr>\n",
       "    <tr>\n",
       "      <th>RMW</th>\n",
       "      <td>-0.232352</td>\n",
       "      <td>-0.349837</td>\n",
       "      <td>0.065707</td>\n",
       "      <td>1.000000</td>\n",
       "      <td>-0.032732</td>\n",
       "      <td>0.111800</td>\n",
       "      <td>-0.089537</td>\n",
       "      <td>0.282811</td>\n",
       "      <td>0.739996</td>\n",
       "      <td>0.002009</td>\n",
       "      <td>-0.092415</td>\n",
       "      <td>-0.324595</td>\n",
       "      <td>0.606138</td>\n",
       "    </tr>\n",
       "    <tr>\n",
       "      <th>CMA</th>\n",
       "      <td>-0.383175</td>\n",
       "      <td>-0.100964</td>\n",
       "      <td>0.696096</td>\n",
       "      <td>-0.032732</td>\n",
       "      <td>1.000000</td>\n",
       "      <td>-0.021120</td>\n",
       "      <td>-0.119658</td>\n",
       "      <td>0.313925</td>\n",
       "      <td>0.088641</td>\n",
       "      <td>0.069021</td>\n",
       "      <td>-0.628201</td>\n",
       "      <td>-0.057307</td>\n",
       "      <td>0.366229</td>\n",
       "    </tr>\n",
       "    <tr>\n",
       "      <th>MOM</th>\n",
       "      <td>-0.132408</td>\n",
       "      <td>-0.028809</td>\n",
       "      <td>-0.183351</td>\n",
       "      <td>0.111800</td>\n",
       "      <td>-0.021120</td>\n",
       "      <td>1.000000</td>\n",
       "      <td>-0.288706</td>\n",
       "      <td>0.179076</td>\n",
       "      <td>0.249623</td>\n",
       "      <td>0.064349</td>\n",
       "      <td>0.058403</td>\n",
       "      <td>0.130620</td>\n",
       "      <td>0.193672</td>\n",
       "    </tr>\n",
       "    <tr>\n",
       "      <th>STR</th>\n",
       "      <td>0.282365</td>\n",
       "      <td>0.158468</td>\n",
       "      <td>0.002098</td>\n",
       "      <td>-0.089537</td>\n",
       "      <td>-0.119658</td>\n",
       "      <td>-0.288706</td>\n",
       "      <td>1.000000</td>\n",
       "      <td>-0.057010</td>\n",
       "      <td>-0.248608</td>\n",
       "      <td>0.033714</td>\n",
       "      <td>0.141484</td>\n",
       "      <td>-0.050521</td>\n",
       "      <td>-0.204246</td>\n",
       "    </tr>\n",
       "    <tr>\n",
       "      <th>BAB</th>\n",
       "      <td>-0.085063</td>\n",
       "      <td>-0.020474</td>\n",
       "      <td>0.319836</td>\n",
       "      <td>0.282811</td>\n",
       "      <td>0.313925</td>\n",
       "      <td>0.179076</td>\n",
       "      <td>-0.057010</td>\n",
       "      <td>1.000000</td>\n",
       "      <td>0.203389</td>\n",
       "      <td>0.002031</td>\n",
       "      <td>-0.207414</td>\n",
       "      <td>-0.126594</td>\n",
       "      <td>0.358085</td>\n",
       "    </tr>\n",
       "    <tr>\n",
       "      <th>QMJ</th>\n",
       "      <td>-0.524648</td>\n",
       "      <td>-0.514492</td>\n",
       "      <td>-0.021364</td>\n",
       "      <td>0.739996</td>\n",
       "      <td>0.088641</td>\n",
       "      <td>0.249623</td>\n",
       "      <td>-0.248608</td>\n",
       "      <td>0.203389</td>\n",
       "      <td>1.000000</td>\n",
       "      <td>0.045346</td>\n",
       "      <td>-0.270510</td>\n",
       "      <td>-0.206491</td>\n",
       "      <td>0.762861</td>\n",
       "    </tr>\n",
       "    <tr>\n",
       "      <th>RF</th>\n",
       "      <td>-0.084408</td>\n",
       "      <td>-0.043436</td>\n",
       "      <td>0.073936</td>\n",
       "      <td>0.002009</td>\n",
       "      <td>0.069021</td>\n",
       "      <td>0.064349</td>\n",
       "      <td>0.033714</td>\n",
       "      <td>0.002031</td>\n",
       "      <td>0.045346</td>\n",
       "      <td>1.000000</td>\n",
       "      <td>-0.066411</td>\n",
       "      <td>0.052340</td>\n",
       "      <td>0.107295</td>\n",
       "    </tr>\n",
       "    <tr>\n",
       "      <th>ISU</th>\n",
       "      <td>0.472874</td>\n",
       "      <td>0.156561</td>\n",
       "      <td>-0.550018</td>\n",
       "      <td>-0.092415</td>\n",
       "      <td>-0.628201</td>\n",
       "      <td>0.058403</td>\n",
       "      <td>0.141484</td>\n",
       "      <td>-0.207414</td>\n",
       "      <td>-0.270510</td>\n",
       "      <td>-0.066411</td>\n",
       "      <td>1.000000</td>\n",
       "      <td>0.030666</td>\n",
       "      <td>-0.364099</td>\n",
       "    </tr>\n",
       "    <tr>\n",
       "      <th>ACR</th>\n",
       "      <td>-0.000292</td>\n",
       "      <td>0.158716</td>\n",
       "      <td>-0.153199</td>\n",
       "      <td>-0.324595</td>\n",
       "      <td>-0.057307</td>\n",
       "      <td>0.130620</td>\n",
       "      <td>-0.050521</td>\n",
       "      <td>-0.126594</td>\n",
       "      <td>-0.206491</td>\n",
       "      <td>0.052340</td>\n",
       "      <td>0.030666</td>\n",
       "      <td>1.000000</td>\n",
       "      <td>-0.254926</td>\n",
       "    </tr>\n",
       "    <tr>\n",
       "      <th>IVOL1M</th>\n",
       "      <td>-0.501423</td>\n",
       "      <td>-0.667716</td>\n",
       "      <td>0.317864</td>\n",
       "      <td>0.606138</td>\n",
       "      <td>0.366229</td>\n",
       "      <td>0.193672</td>\n",
       "      <td>-0.204246</td>\n",
       "      <td>0.358085</td>\n",
       "      <td>0.762861</td>\n",
       "      <td>0.107295</td>\n",
       "      <td>-0.364099</td>\n",
       "      <td>-0.254926</td>\n",
       "      <td>1.000000</td>\n",
       "    </tr>\n",
       "  </tbody>\n",
       "</table>\n",
       "</div>"
      ],
      "text/plain": [
       "          MKT-RF       SMB       HML       RMW       CMA       MOM       STR  \\\n",
       "MKT-RF  1.000000  0.273734 -0.258937 -0.232352 -0.383175 -0.132408  0.282365   \n",
       "SMB     0.273734  1.000000 -0.068692 -0.349837 -0.100964 -0.028809  0.158468   \n",
       "HML    -0.258937 -0.068692  1.000000  0.065707  0.696096 -0.183351  0.002098   \n",
       "RMW    -0.232352 -0.349837  0.065707  1.000000 -0.032732  0.111800 -0.089537   \n",
       "CMA    -0.383175 -0.100964  0.696096 -0.032732  1.000000 -0.021120 -0.119658   \n",
       "MOM    -0.132408 -0.028809 -0.183351  0.111800 -0.021120  1.000000 -0.288706   \n",
       "STR     0.282365  0.158468  0.002098 -0.089537 -0.119658 -0.288706  1.000000   \n",
       "BAB    -0.085063 -0.020474  0.319836  0.282811  0.313925  0.179076 -0.057010   \n",
       "QMJ    -0.524648 -0.514492 -0.021364  0.739996  0.088641  0.249623 -0.248608   \n",
       "RF     -0.084408 -0.043436  0.073936  0.002009  0.069021  0.064349  0.033714   \n",
       "ISU     0.472874  0.156561 -0.550018 -0.092415 -0.628201  0.058403  0.141484   \n",
       "ACR    -0.000292  0.158716 -0.153199 -0.324595 -0.057307  0.130620 -0.050521   \n",
       "IVOL1M -0.501423 -0.667716  0.317864  0.606138  0.366229  0.193672 -0.204246   \n",
       "\n",
       "             BAB       QMJ        RF       ISU       ACR    IVOL1M  \n",
       "MKT-RF -0.085063 -0.524648 -0.084408  0.472874 -0.000292 -0.501423  \n",
       "SMB    -0.020474 -0.514492 -0.043436  0.156561  0.158716 -0.667716  \n",
       "HML     0.319836 -0.021364  0.073936 -0.550018 -0.153199  0.317864  \n",
       "RMW     0.282811  0.739996  0.002009 -0.092415 -0.324595  0.606138  \n",
       "CMA     0.313925  0.088641  0.069021 -0.628201 -0.057307  0.366229  \n",
       "MOM     0.179076  0.249623  0.064349  0.058403  0.130620  0.193672  \n",
       "STR    -0.057010 -0.248608  0.033714  0.141484 -0.050521 -0.204246  \n",
       "BAB     1.000000  0.203389  0.002031 -0.207414 -0.126594  0.358085  \n",
       "QMJ     0.203389  1.000000  0.045346 -0.270510 -0.206491  0.762861  \n",
       "RF      0.002031  0.045346  1.000000 -0.066411  0.052340  0.107295  \n",
       "ISU    -0.207414 -0.270510 -0.066411  1.000000  0.030666 -0.364099  \n",
       "ACR    -0.126594 -0.206491  0.052340  0.030666  1.000000 -0.254926  \n",
       "IVOL1M  0.358085  0.762861  0.107295 -0.364099 -0.254926  1.000000  "
      ]
     },
     "execution_count": 11,
     "metadata": {},
     "output_type": "execute_result"
    }
   ],
   "source": [
    "factor_corr = combined.corr(method='pearson')\n",
    "factor_corr"
   ]
  },
  {
   "cell_type": "markdown",
   "metadata": {},
   "source": [
    "**The correlation between the IVOL1M (low idiosyncratic volatility stocks earn higher returns) and SMB is the most negative**"
   ]
  },
  {
   "cell_type": "code",
   "execution_count": 12,
   "metadata": {},
   "outputs": [
    {
     "data": {
      "text/plain": [
       "-0.6677161204219095"
      ]
     },
     "execution_count": 12,
     "metadata": {},
     "output_type": "execute_result"
    }
   ],
   "source": [
    "# This is the correlation between IVOL and SMB\n",
    "factor_corr.unstack().min()"
   ]
  },
  {
   "cell_type": "markdown",
   "metadata": {},
   "source": [
    "The SMB factor is negatively correlated with the IVOL1M factor because the portfolio containinng stocks with high idiosyncratic volatility most likely is in large part composed of stocks with small market equity. Thus, when the SMB factor earns higher returns (small stocks outperform big stocks), the IVOL1M factor earns lower returns (because the factor shorts high idiosyncratic volatility stocks)."
   ]
  },
  {
   "cell_type": "markdown",
   "metadata": {},
   "source": [
    "**The correlation between QMJ and IVOL1M is the most positive**"
   ]
  },
  {
   "cell_type": "code",
   "execution_count": 13,
   "metadata": {},
   "outputs": [
    {
     "data": {
      "text/plain": [
       "0.7628607822394143"
      ]
     },
     "execution_count": 13,
     "metadata": {},
     "output_type": "execute_result"
    }
   ],
   "source": [
    "# This is the correlation between QMJ and IVOL1M\n",
    "factor_corr[factor_corr!=1].unstack().max()"
   ]
  },
  {
   "cell_type": "markdown",
   "metadata": {},
   "source": [
    "It makes sense that the IVOL1M factor is positively correlated with the QMJ factor. According to Asness et al. the quality score of a particular stock is based on its profitability, growth, safeness (based on return volatility/beta and financial statement metrics), and payout. They found that 'high' quality stocks (i.e those with high profitability, growing, low return volatility, and high payout) earn higher expected returns. You would expect these stocks to also have low idiosyncratic volatility as they are more likely to be owned by index investors and value investors. Though it is not necessarily causal, there could also be a positive correlation between low idiosyncratic volatility and low total volatility (which Asness et al. used to construct their quality score)"
   ]
  },
  {
   "cell_type": "markdown",
   "metadata": {},
   "source": [
    "# Question 3"
   ]
  },
  {
   "cell_type": "code",
   "execution_count": 14,
   "metadata": {},
   "outputs": [
    {
     "data": {
      "text/html": [
       "<div>\n",
       "<style scoped>\n",
       "    .dataframe tbody tr th:only-of-type {\n",
       "        vertical-align: middle;\n",
       "    }\n",
       "\n",
       "    .dataframe tbody tr th {\n",
       "        vertical-align: top;\n",
       "    }\n",
       "\n",
       "    .dataframe thead th {\n",
       "        text-align: right;\n",
       "    }\n",
       "</style>\n",
       "<table border=\"1\" class=\"dataframe\">\n",
       "  <thead>\n",
       "    <tr style=\"text-align: right;\">\n",
       "      <th></th>\n",
       "      <th>DATE</th>\n",
       "      <th>MKT-RF</th>\n",
       "      <th>SMB</th>\n",
       "      <th>HML</th>\n",
       "      <th>RMW</th>\n",
       "      <th>CMA</th>\n",
       "      <th>MOM</th>\n",
       "      <th>STR</th>\n",
       "      <th>BAB</th>\n",
       "      <th>QMJ</th>\n",
       "      <th>RF</th>\n",
       "      <th>ISU</th>\n",
       "      <th>ACR</th>\n",
       "      <th>IVOL1M</th>\n",
       "    </tr>\n",
       "  </thead>\n",
       "  <tbody>\n",
       "    <tr>\n",
       "      <th>0</th>\n",
       "      <td>1963-07-01</td>\n",
       "      <td>-0.39</td>\n",
       "      <td>-0.46</td>\n",
       "      <td>-0.81</td>\n",
       "      <td>0.72</td>\n",
       "      <td>-1.16</td>\n",
       "      <td>0.99</td>\n",
       "      <td>-0.04</td>\n",
       "      <td>0.81</td>\n",
       "      <td>0.47</td>\n",
       "      <td>0.27</td>\n",
       "      <td>-0.205056</td>\n",
       "      <td>-0.473696</td>\n",
       "      <td>1.245273</td>\n",
       "    </tr>\n",
       "    <tr>\n",
       "      <th>1</th>\n",
       "      <td>1963-08-01</td>\n",
       "      <td>5.07</td>\n",
       "      <td>-0.81</td>\n",
       "      <td>1.65</td>\n",
       "      <td>0.42</td>\n",
       "      <td>-0.40</td>\n",
       "      <td>1.08</td>\n",
       "      <td>1.36</td>\n",
       "      <td>-1.22</td>\n",
       "      <td>-0.63</td>\n",
       "      <td>0.25</td>\n",
       "      <td>0.208680</td>\n",
       "      <td>1.021123</td>\n",
       "      <td>0.404250</td>\n",
       "    </tr>\n",
       "    <tr>\n",
       "      <th>2</th>\n",
       "      <td>1963-09-01</td>\n",
       "      <td>-1.57</td>\n",
       "      <td>-0.48</td>\n",
       "      <td>0.19</td>\n",
       "      <td>-0.80</td>\n",
       "      <td>0.23</td>\n",
       "      <td>0.13</td>\n",
       "      <td>1.20</td>\n",
       "      <td>1.07</td>\n",
       "      <td>0.61</td>\n",
       "      <td>0.27</td>\n",
       "      <td>1.130358</td>\n",
       "      <td>0.061623</td>\n",
       "      <td>0.774335</td>\n",
       "    </tr>\n",
       "    <tr>\n",
       "      <th>3</th>\n",
       "      <td>1963-10-01</td>\n",
       "      <td>2.53</td>\n",
       "      <td>-1.29</td>\n",
       "      <td>-0.09</td>\n",
       "      <td>2.75</td>\n",
       "      <td>-2.26</td>\n",
       "      <td>3.14</td>\n",
       "      <td>-0.66</td>\n",
       "      <td>-1.88</td>\n",
       "      <td>2.08</td>\n",
       "      <td>0.29</td>\n",
       "      <td>1.426423</td>\n",
       "      <td>3.028919</td>\n",
       "      <td>0.218016</td>\n",
       "    </tr>\n",
       "    <tr>\n",
       "      <th>4</th>\n",
       "      <td>1963-11-01</td>\n",
       "      <td>-0.85</td>\n",
       "      <td>-0.85</td>\n",
       "      <td>1.71</td>\n",
       "      <td>-0.34</td>\n",
       "      <td>2.22</td>\n",
       "      <td>-0.75</td>\n",
       "      <td>1.15</td>\n",
       "      <td>-0.52</td>\n",
       "      <td>-0.88</td>\n",
       "      <td>0.27</td>\n",
       "      <td>0.910432</td>\n",
       "      <td>-1.318862</td>\n",
       "      <td>2.087017</td>\n",
       "    </tr>\n",
       "  </tbody>\n",
       "</table>\n",
       "</div>"
      ],
      "text/plain": [
       "        DATE  MKT-RF   SMB   HML   RMW   CMA   MOM   STR   BAB   QMJ    RF  \\\n",
       "0 1963-07-01   -0.39 -0.46 -0.81  0.72 -1.16  0.99 -0.04  0.81  0.47  0.27   \n",
       "1 1963-08-01    5.07 -0.81  1.65  0.42 -0.40  1.08  1.36 -1.22 -0.63  0.25   \n",
       "2 1963-09-01   -1.57 -0.48  0.19 -0.80  0.23  0.13  1.20  1.07  0.61  0.27   \n",
       "3 1963-10-01    2.53 -1.29 -0.09  2.75 -2.26  3.14 -0.66 -1.88  2.08  0.29   \n",
       "4 1963-11-01   -0.85 -0.85  1.71 -0.34  2.22 -0.75  1.15 -0.52 -0.88  0.27   \n",
       "\n",
       "        ISU       ACR    IVOL1M  \n",
       "0 -0.205056 -0.473696  1.245273  \n",
       "1  0.208680  1.021123  0.404250  \n",
       "2  1.130358  0.061623  0.774335  \n",
       "3  1.426423  3.028919  0.218016  \n",
       "4  0.910432 -1.318862  2.087017  "
      ]
     },
     "execution_count": 14,
     "metadata": {},
     "output_type": "execute_result"
    }
   ],
   "source": [
    "subsample = combined[combined['DATE'].between('1963-07', '2014-05', inclusive=True)]\n",
    "subsample.head()"
   ]
  },
  {
   "cell_type": "markdown",
   "metadata": {},
   "source": [
    "The portfolio of the highest Sharpe ratio is the tangent portfolio of the mean-variance frontier with and without the risk-free asset. \n",
    "\n",
    "Let $\\mu$ be the mean factor returns, $\\Sigma$ be the factor covariance matrix, $l$ be a $12\\times1$ vector of ones, and $r_f$ be the risk free rate. To get the maximum Sharpe ratio portfolio, we consider the following problem:\n",
    "\\begin{equation*}\n",
    "\\begin{aligned}\n",
    "\t& \\underset{\\alpha}{\\text{max}}\n",
    "\t& & \\alpha'(\\mu-\\bar{r}\\mathbf{1})-w\\alpha'\\Sigma\\alpha\n",
    "\\end{aligned}\n",
    "\\end{equation*}\n",
    "The F.O.C. is\n",
    "$$\\mu-\\bar{r}\\mathbf{1}=2w\\Sigma\\alpha^*\\implies\\alpha^*=\\frac{\\Sigma^{-1}(\\mu-\\bar{r}\\mathbf{1})}{2w}.$$\n",
    "We then choose $w$ so that $\\alpha^{*\\prime}\\mathbf{1}=1$ to get tangency portfolio.\n",
    "$$1=\\mathbf{1}'\\alpha^*=\\frac{\\mathbf{1}'\\Sigma^{-1}(\\mu-\\bar{r}\\mathbf{1})}{2w}\\implies 2w=\\mathbf{1}'\\Sigma^{-1}(\\mu-\\bar{r}\\mathbf{1})$$\n",
    "$$\\implies \\alpha^*=\\frac{\\Sigma^{-1}(\\mu-\\bar{r}\\mathbf{1})}{\\mathbf{1}'\\Sigma^{-1}(\\mu-\\bar{r}\\mathbf{1})}.$$\n",
    "Thus\n",
    "$$\\mu_T-\\bar{r}=(\\mu-\\bar{r}\\mathbf{1})'\\alpha^*=\\frac{(\\mu-\\bar{r}\\mathbf{1})'\\Sigma^{-1}(\\mu-\\bar{r}\\mathbf{1})}{\\mathbf{1}'\\Sigma^{-1}(\\mu-\\bar{r}\\mathbf{1})}$$\n",
    "and\n",
    "$$\\sigma_T^2=\\frac{(\\mu-\\bar{r}\\mathbf{1})'\\Sigma^{-1}\\Sigma\\Sigma^{-1}(\\mu-\\bar{r}\\mathbf{1})}{(\\mathbf{1}'\\Sigma^{-1}(\\mu-\\bar{r}\\mathbf{1}))^2}\\implies\\sigma_T=\\frac{\\sqrt{(\\mu-\\bar{r}\\mathbf{1})'\\Sigma^{-1}(\\mu-\\bar{r}\\mathbf{1})}}{\\mathbf{1}'\\Sigma^{-1}(\\mu-\\bar{r}\\mathbf{1})}.$$\n",
    "Therefore the maximum Sharpe Ratio is \n",
    "$$SR^*=\\frac{\\mu_T-\\bar{r}}{\\sigma_T}=\\sqrt{(\\mu-r_fl)'\\Sigma^{-1}(\\mu-r_fl)}.$$\n",
    "Since we only have one observation of the realized values of the factors, we cannot calculate emsemble moments. With resort to stationarity and ergodicity, we use the time-series moments as of June 1963 to estimate emsemble moments."
   ]
  },
  {
   "cell_type": "code",
   "execution_count": 21,
   "metadata": {},
   "outputs": [],
   "source": [
    "risky = subsample.drop(['DATE', 'RF'], axis=1)\n",
    "mu = risky.mean()\n",
    "Sigma = risky.cov()\n",
    "rf = subsample['RF'].mean()\n",
    "l = np.ones([np.shape(subsample)[1]-2, 1])\n",
    "\n",
    "from numpy.linalg import inv\n",
    "alpha = np.dot(inv(Sigma), mu - rf)\n",
    "SR = np.sqrt(np.dot(np.dot(mu - rf, inv(Sigma)), mu - rf))"
   ]
  },
  {
   "cell_type": "markdown",
   "metadata": {},
   "source": [
    "Assume that the scaling constant is $c$, then \n",
    "$$(c\\alpha)'\\Sigma^{-1}(c\\alpha)=(20\\%)^2\\implies c=\\frac{20\\%}{\\sqrt{\\alpha'\\Sigma^{-1}\\alpha}}.$$"
   ]
  },
  {
   "cell_type": "code",
   "execution_count": 22,
   "metadata": {
    "collapsed": true
   },
   "outputs": [],
   "source": [
    "alpha = alpha * 0.2 / np.sqrt(np.dot(np.dot(alpha, inv(Sigma)), alpha))"
   ]
  },
  {
   "cell_type": "code",
   "execution_count": 23,
   "metadata": {
    "scrolled": true
   },
   "outputs": [
    {
     "name": "stdout",
     "output_type": "stream",
     "text": [
      "[-0.01030915 -0.0307987  -0.01538546 -0.11722824 -0.12137739  0.0272793\n",
      "  0.01591952  0.06219642 -0.04746366 -0.05872774 -0.15103461  0.01548979]\n",
      "0.32509971193178366\n"
     ]
    }
   ],
   "source": [
    "print(alpha)\n",
    "print(SR)"
   ]
  },
  {
   "cell_type": "markdown",
   "metadata": {},
   "source": [
    "# Question 4"
   ]
  },
  {
   "cell_type": "code",
   "execution_count": 63,
   "metadata": {},
   "outputs": [],
   "source": [
    "mve = np.dot(risky, alpha)\n",
    "hml = subsample['HML']\n",
    "df = np.array([hml, mve])\n",
    "df = pd.DataFrame(data=np.transpose(df))\n",
    "df.columns = ['HML', 'MVE']"
   ]
  },
  {
   "cell_type": "code",
   "execution_count": 75,
   "metadata": {},
   "outputs": [
    {
     "name": "stdout",
     "output_type": "stream",
     "text": [
      "                            OLS Regression Results                            \n",
      "==============================================================================\n",
      "Dep. Variable:                    HML   R-squared:                       0.001\n",
      "Model:                            OLS   Adj. R-squared:                 -0.001\n",
      "Method:                 Least Squares   F-statistic:                    0.6690\n",
      "Date:                Tue, 06 Feb 2018   Prob (F-statistic):              0.414\n",
      "Time:                        14:32:37   Log-Likelihood:                -1501.4\n",
      "No. Observations:                 611   AIC:                             3007.\n",
      "Df Residuals:                     609   BIC:                             3016.\n",
      "Df Model:                           1                                         \n",
      "Covariance Type:            nonrobust                                         \n",
      "==============================================================================\n",
      "                 coef    std err          t      P>|t|      [0.025      0.975]\n",
      "------------------------------------------------------------------------------\n",
      "Intercept      0.3652      0.116      3.143      0.002       0.137       0.593\n",
      "MVE           -0.2630      0.321     -0.818      0.414      -0.894       0.368\n",
      "==============================================================================\n",
      "Omnibus:                       33.691   Durbin-Watson:                   1.665\n",
      "Prob(Omnibus):                  0.000   Jarque-Bera (JB):              113.452\n",
      "Skew:                           0.006   Prob(JB):                     2.31e-25\n",
      "Kurtosis:                       5.111   Cond. No.                         2.82\n",
      "==============================================================================\n",
      "\n",
      "Warnings:\n",
      "[1] Standard Errors assume that the covariance matrix of the errors is correctly specified.\n"
     ]
    }
   ],
   "source": [
    "import statsmodels.formula.api as sm\n",
    "result = sm.ols(formula=\"HML ~ MVE\", data=df).fit()\n",
    "print(result.summary())"
   ]
  },
  {
   "cell_type": "code",
   "execution_count": 78,
   "metadata": {},
   "outputs": [
    {
     "name": "stdout",
     "output_type": "stream",
     "text": [
      "                            OLS Regression Results                            \n",
      "==============================================================================\n",
      "Dep. Variable:                    SMB   R-squared:                       0.020\n",
      "Model:                            OLS   Adj. R-squared:                  0.019\n",
      "Method:                 Least Squares   F-statistic:                     12.54\n",
      "Date:                Tue, 06 Feb 2018   Prob (F-statistic):           0.000429\n",
      "Time:                        14:34:29   Log-Likelihood:                -1541.3\n",
      "No. Observations:                 611   AIC:                             3087.\n",
      "Df Residuals:                     609   BIC:                             3095.\n",
      "Df Model:                           1                                         \n",
      "Covariance Type:            nonrobust                                         \n",
      "==============================================================================\n",
      "                 coef    std err          t      P>|t|      [0.025      0.975]\n",
      "------------------------------------------------------------------------------\n",
      "Intercept      0.1959      0.124      1.580      0.115      -0.048       0.439\n",
      "MVE           -1.2153      0.343     -3.541      0.000      -1.889      -0.541\n",
      "==============================================================================\n",
      "Omnibus:                       72.217   Durbin-Watson:                   1.816\n",
      "Prob(Omnibus):                  0.000   Jarque-Bera (JB):              433.369\n",
      "Skew:                           0.294   Prob(JB):                     7.85e-95\n",
      "Kurtosis:                       7.084   Cond. No.                         2.82\n",
      "==============================================================================\n",
      "\n",
      "Warnings:\n",
      "[1] Standard Errors assume that the covariance matrix of the errors is correctly specified.\n"
     ]
    }
   ],
   "source": [
    "SMB = subsample['SMB']\n",
    "df = np.array([SMB, mve])\n",
    "df = pd.DataFrame(data=np.transpose(df))\n",
    "df.columns = ['SMB', 'MVE']\n",
    "result = sm.ols(formula=\"SMB ~ MVE\", data=df).fit()\n",
    "print(result.summary())"
   ]
  },
  {
   "cell_type": "markdown",
   "metadata": {},
   "source": [
    "# Question 5"
   ]
  },
  {
   "cell_type": "code",
   "execution_count": 81,
   "metadata": {},
   "outputs": [],
   "source": [
    "pre = combined[combined['DATE'].between('1963-07', '1988-12', inclusive=True)]\n",
    "post = combined[combined['DATE'].between('1989-01', '2014-05', inclusive=True)]"
   ]
  },
  {
   "cell_type": "code",
   "execution_count": 105,
   "metadata": {},
   "outputs": [
    {
     "name": "stdout",
     "output_type": "stream",
     "text": [
      "MKT-RF    0.265861\n",
      "SMB       0.440098\n",
      "HML       0.687344\n",
      "RMW       0.315589\n",
      "CMA       0.635310\n",
      "MOM       0.758511\n",
      "STR       1.089496\n",
      "BAB       1.152317\n",
      "QMJ       0.542929\n",
      "RF        8.338218\n",
      "ISU       0.199198\n",
      "ACR       0.499931\n",
      "IVOL1M    0.453934\n",
      "dtype: float64\n"
     ]
    }
   ],
   "source": [
    "SR_pre = pre.mean()*12/(pre.std()*np.sqrt(12))\n",
    "print(SR_pre)"
   ]
  },
  {
   "cell_type": "code",
   "execution_count": 106,
   "metadata": {},
   "outputs": [
    {
     "name": "stdout",
     "output_type": "stream",
     "text": [
      "MKT-RF    0.516345\n",
      "SMB       0.177808\n",
      "HML       0.276392\n",
      "RMW       0.458646\n",
      "CMA       0.485853\n",
      "MOM       0.432734\n",
      "STR       0.192094\n",
      "BAB       0.661038\n",
      "QMJ       0.479629\n",
      "RF        4.688866\n",
      "ISU       0.910353\n",
      "ACR       0.108419\n",
      "IVOL1M    0.332248\n",
      "dtype: float64\n"
     ]
    }
   ],
   "source": [
    "SR_post = post.mean()*12/(post.std()*np.sqrt(12))\n",
    "print(SR_post)"
   ]
  },
  {
   "cell_type": "code",
   "execution_count": null,
   "metadata": {},
   "outputs": [],
   "source": []
  },
  {
   "cell_type": "code",
   "execution_count": null,
   "metadata": {
    "collapsed": true
   },
   "outputs": [],
   "source": []
  }
 ],
 "metadata": {
  "kernelspec": {
   "display_name": "Python 3",
   "language": "python",
   "name": "python3"
  },
  "language_info": {
   "codemirror_mode": {
    "name": "ipython",
    "version": 3
   },
   "file_extension": ".py",
   "mimetype": "text/x-python",
   "name": "python",
   "nbconvert_exporter": "python",
   "pygments_lexer": "ipython3",
   "version": "3.6.4"
  }
 },
 "nbformat": 4,
 "nbformat_minor": 2
}
